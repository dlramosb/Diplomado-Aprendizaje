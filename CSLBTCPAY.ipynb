{
 "cells": [
  {
   "cell_type": "markdown",
   "id": "supreme-puzzle",
   "metadata": {},
   "source": [
    "## Descripción página BTC-PAY"
   ]
  },
  {
   "cell_type": "markdown",
   "id": "lovely-bracket",
   "metadata": {},
   "source": [
    "La herramienta <i>BTCPAY</i> es un aplicativo web tipo dashboard, con las siguientes caracteristicas:"
   ]
  },
  {
   "cell_type": "markdown",
   "id": "valued-wallet",
   "metadata": {},
   "source": [
    "> - Desplegada en <b>Dash</b>, un framework de <b>Python</b> para crear aplicaciones web. Se basa en un <b>Integrado de herramientas</b> como Flask (framework parecido a Django), Plotly.js, React y React Js. Y que permite crear visualizaciones utilizando Python sin ser desarrollador full-stack. Dash es open source y sus aplicaciones se ejecutan en el navegador web. [Sitio Web Dash](\"https://dash.plotly.com/\"), [Sitio Web Plotly](\"https://plotly.com/\")\n",
    "-<p>Usa en su interior diferentes módulos de <i>python</i> y dash como lo son:</p> Pandas, Seaborn, Plotly, Bootstrap, html, hashlib (para peticiones), entre otros.\n",
    "-No utiliza bases de datos, las peticiones y calculos se hacen en <i>tiempo real</i>, con la consulta a las API\n",
    "de exchanges de criptomonedas.\n",
    "-En su interior para la <i>creación del frontend</i> mezcla 3 módulos de dash, bootstrap, html, y dash core sin distinción, los objetos de la pagina fueron creados en conjunto con estos tres componentes. Ej: Es posible encontrarse un html.Div, con <i>children</i> de tipo dash, o boostrap.\n",
    "-Posee una estructura con archivos genéricos como <i>app.py</i> (donde se crea el dash), <i>application.py</i> (donde se realiza el deployment en flask), <i>index.py</i> (la pagina principal),<i> utils.py</i> (donde se encuentran todas las funciones/clases) y una carpeta <i>panels</i> donde se encuentran los <i>tres layouts</i> que contiene el aplicativo.\n",
    "-La implementación de este sistema es conjunto, es decir mucha parte del codigo del backend está escrito en los layouts dependiendo las necesidades, y se hace el llamado directamente desde utils, luego no es posible separar en el estado actual backend/frontend ya que esta integrado en su totalidad. \n",
    "-Los gráficos de la página estan en <i>[Plotly](\"https://plotly.com/\")</i>, con datos extraidos por medio de dataframes tipo <i>pandas</i> de donde se guada la información capturada. Cuando se hace otra consulta, se reescriben los elementos.\n",
    "-Se encuentra desplegado actualmente en una máquina azure, con 8 de RAM, y en SO Ubuntu.\n",
    "-En el momento, la página esta sin certificado https.\n",
    "-Se sugiere hacer la migración a frameworks afines como <i>[Django](\"https://docs.djangoproject.com/en/3.2/\") y [React](\"https://es.reactjs.org/\")</i>, para que sea eficiente el proceso y sin traumatismos al aplicativo.\n",
    "-En el boton buscar de la pagina al lado superior se sugiere integrar la busqueda de criptomonedas y activos con la pagina de [CoinMarketCap](\"https://coinmarketcap.com/\"), y colocar el icono a la pestaña de la página ya que en el momento no posee.\n",
    "-Todos los modulos implementados fueron con las versiones actualizadas."
   ]
  },
  {
   "cell_type": "markdown",
   "id": "satisfied-preparation",
   "metadata": {},
   "source": [
    "Se puede visualizar en [BTCPAY](\"http://btcpay.com.co/\")."
   ]
  }
 ],
 "metadata": {
  "kernelspec": {
   "display_name": "Python 3",
   "language": "python",
   "name": "python3"
  },
  "language_info": {
   "codemirror_mode": {
    "name": "ipython",
    "version": 3
   },
   "file_extension": ".py",
   "mimetype": "text/x-python",
   "name": "python",
   "nbconvert_exporter": "python",
   "pygments_lexer": "ipython3",
   "version": "3.8.8"
  }
 },
 "nbformat": 4,
 "nbformat_minor": 5
}
